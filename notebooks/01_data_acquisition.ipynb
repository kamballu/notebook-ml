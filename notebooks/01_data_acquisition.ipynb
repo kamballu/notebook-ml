{
 "cells": [
  {
   "cell_type": "code",
   "execution_count": null,
   "metadata": {},
   "outputs": [],
   "source": [
    "# default_exp data_acquisition.main"
   ]
  },
  {
   "cell_type": "markdown",
   "metadata": {},
   "source": [
    "# data_acquisition\n",
    "\n",
    "> This submodule deals with all the functions related to data acquision."
   ]
  },
  {
   "cell_type": "code",
   "execution_count": null,
   "metadata": {},
   "outputs": [],
   "source": [
    "#hide\n",
    "from nbdev.showdoc import *"
   ]
  },
  {
   "cell_type": "markdown",
   "metadata": {},
   "source": [
    "The module is build to work from a config file. All config files are located in the `config` directory. Change the relevant settings there and use main.py to run the file. \n",
    "\n",
    "A data acquision config looks like this"
   ]
  },
  {
   "cell_type": "code",
   "execution_count": null,
   "metadata": {},
   "outputs": [],
   "source": [
    "# export config.default_config\n",
    "from pathlib import Path\n",
    "\n",
    "INPUT_DATA_DIR = Path.cwd().parents[0] / 'data'\n",
    "INPUT_DATA_NAME = 'input_data_name.csv'\n",
    "HOLD_OUT_DATA_NAME = 'hold_out_data.csv'\n",
    "compute = 'local'"
   ]
  },
  {
   "cell_type": "markdown",
   "metadata": {},
   "source": [
    "Make the define functions to read the data and to split the data into a train and holdout set."
   ]
  },
  {
   "cell_type": "code",
   "execution_count": null,
   "metadata": {},
   "outputs": [],
   "source": [
    "# export \n",
    "import os\n",
    "import sys\n",
    "import pandas as pd\n",
    "import argparse\n",
    "from pathlib import Path\n",
    "\n",
    "\n",
    "# sys.path.append(str(Path.cwd().parent / 'config'))\n",
    "# Note the following import only works after adding current file to system path\n",
    "import altaml_template_repo.config.default_config as config\n",
    "\n",
    "\n",
    "def get_data() -> pd.DataFrame:\n",
    "    # Read Data\n",
    "    data_path = f\"{config.INPUT_DATA_DIR}/{config.INPUT_DATA_NAME}\"\n",
    "    data = pd.read_csv(data_path)   \n",
    " \n",
    "    return data\n",
    "\n",
    "\n",
    "def get_hold_out_data() -> pd.DataFrame:\n",
    "    # Read Holdout Data\n",
    "    hold_out_data_path = f\"{config.INPUT_DATA_DIR}/{config.HOLD_OUT_DATA_NAME}\"\n",
    "    hold_out_data = pd.read_csv(hold_out_data_path)\n",
    "\n",
    "    return hold_out_data\n"
   ]
  },
  {
   "cell_type": "markdown",
   "metadata": {},
   "source": [
    "Unit tests to ensure that the functions are working as expected. These tests are dummy tests for now."
   ]
  },
  {
   "cell_type": "code",
   "execution_count": null,
   "metadata": {},
   "outputs": [],
   "source": [
    "#export tests.all_tests\n",
    "from altaml_template_repo.data_acquisition import *\n",
    "\n",
    "def test_get_data():\n",
    "    return True\n",
    "\n",
    "\n",
    "def test_get_holdout():\n",
    "    return True\n",
    "\n",
    "assert test_get_holdout()\n",
    "assert test_get_data()"
   ]
  },
  {
   "cell_type": "markdown",
   "metadata": {},
   "source": [
    "Boilerplate code to run the code in azure"
   ]
  },
  {
   "cell_type": "code",
   "execution_count": null,
   "metadata": {},
   "outputs": [],
   "source": [
    "# export \n",
    "if __name__ == \"__main__\":\n",
    "    experiment_config = config"
   ]
  },
  {
   "cell_type": "code",
   "execution_count": null,
   "metadata": {},
   "outputs": [
    {
     "name": "stdout",
     "output_type": "stream",
     "text": [
      "Warning: Exporting to \"config/default_config.py\" but this module is not part of this build\n",
      "Warning: Exporting to \"tests/all_tests.py\" but this module is not part of this build\n",
      "Converted 01_data_acquisition.ipynb.\n",
      "Warning: Exporting to \"config/default_config.py\" but this module is not part of this build\n",
      "Warning: Exporting to \"data_processing/utils.py\" but this module is not part of this build\n",
      "Warning: Exporting to \"tests/all_tests.py\" but this module is not part of this build\n",
      "Converted 02_data_processing.ipynb.\n",
      "Converted index.ipynb.\n"
     ]
    }
   ],
   "source": [
    "#hide\n",
    "from nbdev.export import notebook2script\n",
    "notebook2script()"
   ]
  }
 ],
 "metadata": {
  "kernelspec": {
   "display_name": "Python 3",
   "language": "python",
   "name": "python3"
  }
 },
 "nbformat": 4,
 "nbformat_minor": 2
}
