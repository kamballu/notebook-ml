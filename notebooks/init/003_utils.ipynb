{
 "cells": [
  {
   "cell_type": "code",
   "execution_count": null,
   "id": "intensive-married",
   "metadata": {},
   "outputs": [],
   "source": [
    "# default_exp data_processing.utils"
   ]
  },
  {
   "cell_type": "markdown",
   "id": "unlike-distribution",
   "metadata": {},
   "source": [
    "# data_processing_utils\n",
    "\n",
    "> This submodule deals with all the util functions required for the project"
   ]
  },
  {
   "cell_type": "code",
   "execution_count": null,
   "id": "interpreted-bedroom",
   "metadata": {},
   "outputs": [],
   "source": [
    "#export\n"
   ]
  },
  {
   "cell_type": "code",
   "execution_count": null,
   "id": "drawn-performance",
   "metadata": {},
   "outputs": [
    {
     "name": "stdout",
     "output_type": "stream",
     "text": [
      "Warning: Exporting to \"config/default_config.py\" but this module is not part of this build\n",
      "Warning: Exporting to \"tests/all_tests.py\" but this module is not part of this build\n",
      "Converted 01_data_acquisition.ipynb.\n",
      "Warning: Exporting to \"config/default_config.py\" but this module is not part of this build\n",
      "Converted 02_data_processing.ipynb.\n",
      "Converted index.ipynb.\n"
     ]
    }
   ],
   "source": [
    "#hide\n",
    "from nbdev.export import notebook2script\n",
    "notebook2script()"
   ]
  }
 ],
 "metadata": {
  "kernelspec": {
   "display_name": "Python 3",
   "language": "python",
   "name": "python3"
  }
 },
 "nbformat": 4,
 "nbformat_minor": 5
}
